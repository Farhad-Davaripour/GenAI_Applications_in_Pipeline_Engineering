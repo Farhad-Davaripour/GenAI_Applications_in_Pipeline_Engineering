{
  "cells": [
    {
      "cell_type": "markdown",
      "id": "ccd05078",
      "metadata": {},
      "source": [
        "# ALA2005 Pipeline Design Guideline Augmented with a ReAct Agent"
      ]
    },
    {
      "cell_type": "markdown",
      "id": "1c56930a",
      "metadata": {},
      "source": [
        "## Setup"
      ]
    },
    {
      "cell_type": "code",
      "execution_count": 1,
      "id": "70ccdd53-e68a-4199-aacb-cfe71ad1ff0b",
      "metadata": {
        "id": "70ccdd53-e68a-4199-aacb-cfe71ad1ff0b"
      },
      "outputs": [
        {
          "data": {
            "text/plain": [
              "True"
            ]
          },
          "execution_count": 1,
          "metadata": {},
          "output_type": "execute_result"
        }
      ],
      "source": [
        "import nest_asyncio\n",
        "nest_asyncio.apply()\n",
        "\n",
        "from dotenv import load_dotenv\n",
        "load_dotenv(override=True)"
      ]
    },
    {
      "cell_type": "code",
      "execution_count": 2,
      "id": "aaeb245c-730b-4c34-ad68-708fdde0e6cb",
      "metadata": {
        "id": "aaeb245c-730b-4c34-ad68-708fdde0e6cb"
      },
      "outputs": [],
      "source": [
        "# setup Arize Phoenix for logging/observability\n",
        "import os\n",
        "import llama_index.core\n",
        "\n",
        "PHOENIX_API_KEY = os.getenv(\"PHOENIX_API_KEY\")\n",
        "os.environ[\"OTEL_EXPORTER_OTLP_HEADERS\"] = f\"api_key={PHOENIX_API_KEY}\"\n",
        "llama_index.core.set_global_handler(\n",
        "    \"arize_phoenix\", endpoint=\"https://llamatrace.com/v1/traces\"\n",
        ")"
      ]
    },
    {
      "cell_type": "code",
      "execution_count": 3,
      "id": "16e2071d-bbc2-4707-8ae7-cb4e1fecafd3",
      "metadata": {
        "id": "16e2071d-bbc2-4707-8ae7-cb4e1fecafd3"
      },
      "outputs": [],
      "source": [
        "from llama_index.core import Settings\n",
        "from llama_index.llms.openai import OpenAI as llma_OpenAI\n",
        "from llama_index.embeddings.openai import OpenAIEmbedding\n",
        "\n",
        "embed_model = OpenAIEmbedding(model=\"text-embedding-3-large\")\n",
        "llm = llma_OpenAI(model=\"gpt-4o\")\n",
        "\n",
        "Settings.embed_model = embed_model\n",
        "Settings.llm = llm"
      ]
    },
    {
      "cell_type": "code",
      "execution_count": 4,
      "id": "856531a8",
      "metadata": {},
      "outputs": [],
      "source": [
        "from openai import OpenAI\n",
        "\n",
        "client_openai = OpenAI()\n",
        "openai_model = 'gpt-4o-mini'"
      ]
    },
    {
      "cell_type": "markdown",
      "id": "50b77ec6",
      "metadata": {},
      "source": [
        "## Parsing"
      ]
    },
    {
      "cell_type": "code",
      "execution_count": 5,
      "id": "570089e5-238a-4dcc-af65-96e7393c2b4d",
      "metadata": {
        "id": "570089e5-238a-4dcc-af65-96e7393c2b4d"
      },
      "outputs": [],
      "source": [
        "from llama_parse import LlamaParse\n",
        "\n",
        "parsingInstructionManga = \"\"\"The provided document is a Guidelines for the Design of Buried Steel Pipe .\n",
        "It does contain images, tables, math equations.\n",
        "Output any math equation in LATEX markdown (between $$).\"\"\""
      ]
    },
    {
      "cell_type": "code",
      "execution_count": 6,
      "id": "eeadb16c-97eb-4622-9551-b34d7f90d72f",
      "metadata": {
        "id": "eeadb16c-97eb-4622-9551-b34d7f90d72f"
      },
      "outputs": [],
      "source": [
        "# print(f\"Parsing PDF file...\")\n",
        "# parser_gpt4o = LlamaParse(result_type=\"markdown\", gpt4o_mode=True, parsing_instruction=parsingInstructionManga, show_progress=True)\n",
        "# md_json_objs = parser_gpt4o.load_data('docs\\ALA2005-compressed_images.pdf')"
      ]
    },
    {
      "cell_type": "code",
      "execution_count": 7,
      "id": "7bb4d3c9",
      "metadata": {},
      "outputs": [],
      "source": [
        "# # Parse the documents using MarkdownElementNodeParser\n",
        "# from llama_index.core.node_parser import MarkdownElementNodeParser\n",
        "\n",
        "# node_parser = MarkdownElementNodeParser(llm=llm, num_workers=8)\n",
        "# nodes = node_parser.get_nodes_from_documents(md_json_objs)"
      ]
    },
    {
      "cell_type": "markdown",
      "id": "9b68a2d0",
      "metadata": {},
      "source": [
        "## Indexing"
      ]
    },
    {
      "cell_type": "code",
      "execution_count": 8,
      "id": "d966f995",
      "metadata": {},
      "outputs": [],
      "source": [
        "import os\n",
        "from llama_index.core import (\n",
        "    StorageContext,\n",
        "    VectorStoreIndex,\n",
        "    load_index_from_storage,\n",
        ")"
      ]
    },
    {
      "cell_type": "code",
      "execution_count": 9,
      "id": "66d06683",
      "metadata": {},
      "outputs": [],
      "source": [
        "if not os.path.exists(\"storage_nodes\"):\n",
        "    index = VectorStoreIndex(nodes, embed_model=embed_model)\n",
        "    # save index to disk\n",
        "    index.set_index_id(\"vector_index\")\n",
        "    index.storage_context.persist(\"./storage_nodes\")\n",
        "else:\n",
        "    # rebuild storage context\n",
        "    storage_context = StorageContext.from_defaults(persist_dir=\"storage_nodes\")\n",
        "    # load index\n",
        "    index = load_index_from_storage(storage_context, index_id=\"vector_index\")"
      ]
    },
    {
      "cell_type": "code",
      "execution_count": 10,
      "id": "14ee429a",
      "metadata": {},
      "outputs": [],
      "source": [
        "QA_PROMPT_TMPL = \"\"\"\\\n",
        "\n",
        "The document is the guideline to design buried pipelines which is parsed and converted into the 'markdown' mode.\n",
        "---------------------\n",
        "{context_str}\n",
        "---------------------\n",
        "Given the context information and not prior knowledge, answer the query. Explain your reasoning for the final answer.\n",
        "Output any math equation in LATEX markdown (between $$).\n",
        "Always try to return the section number(s) where the information has been retrieved.\n",
        "\n",
        "Query: {query_str}\n",
        "Answer: \"\"\"\n",
        "\n",
        "# QA_PROMPT = PromptTemplate(QA_PROMPT_TMPL)"
      ]
    },
    {
      "cell_type": "code",
      "execution_count": 18,
      "id": "763326e3",
      "metadata": {},
      "outputs": [],
      "source": [
        "from llama_index.core.query_engine import CustomQueryEngine\n",
        "from llama_index.core.base.response.schema import Response\n",
        "from llama_index.core.prompts import PromptTemplate\n",
        "from llama_index.core.schema import  MetadataMode\n",
        "\n",
        "class MARKDOWN_QUERY_ENGINE(CustomQueryEngine):\n",
        "\n",
        "    qa_prompt: PromptTemplate\n",
        "\n",
        "    def __init__(self, qa_prompt = PromptTemplate(QA_PROMPT_TMPL), **kwargs) -> None:\n",
        "        super().__init__(qa_prompt=qa_prompt, **kwargs)\n",
        "\n",
        "    def custom_query(self, query_str: str):\n",
        "        retriever = index.as_retriever(similarity_top_k=5)\n",
        "        # retrieve text nodes\n",
        "        text_nodes = retriever.retrieve(query_str)\n",
        "\n",
        "        context_str = \"\\n\\n\".join(\n",
        "                    [r.get_content(metadata_mode=MetadataMode.LLM) for r in text_nodes]\n",
        "                )\n",
        "        fmt_prompt = self.qa_prompt.format(context_str=context_str, query_str=query_str)\n",
        "        llm_response = llm.complete(prompt=fmt_prompt)\n",
        "        return Response(response=str(llm_response), source_nodes=text_nodes)\n",
        "    "
      ]
    },
    {
      "cell_type": "code",
      "execution_count": 19,
      "id": "7ad32d87",
      "metadata": {},
      "outputs": [],
      "source": [
        "query_str = 'Find the surface live load transferred to the pipe from different height cover?'\n",
        "\n",
        "query_engine = MARKDOWN_QUERY_ENGINE()"
      ]
    },
    {
      "cell_type": "markdown",
      "id": "1f94ef26-0df5-4468-a156-903d686f02ce",
      "metadata": {
        "id": "1f94ef26-0df5-4468-a156-903d686f02ce"
      },
      "source": [
        "## ReAct Agent"
      ]
    },
    {
      "cell_type": "code",
      "execution_count": 20,
      "id": "5b7a8c5f-39fc-4d04-8c56-3642f5718437",
      "metadata": {
        "id": "5b7a8c5f-39fc-4d04-8c56-3642f5718437"
      },
      "outputs": [],
      "source": [
        "from llama_index.core.tools import QueryEngineTool\n",
        "from llama_index.core.agent import ReActAgent"
      ]
    },
    {
      "cell_type": "code",
      "execution_count": 21,
      "id": "c187d559",
      "metadata": {},
      "outputs": [],
      "source": [
        "import importlib\n",
        "import src.prompt_temp as prompt_temp\n",
        "importlib.reload(prompt_temp)\n",
        "from src.prompt_temp import react_system_prmopt"
      ]
    },
    {
      "cell_type": "code",
      "execution_count": 22,
      "id": "e51aaaad",
      "metadata": {},
      "outputs": [],
      "source": [
        "pipe_design_guideline_tool = QueryEngineTool.from_defaults(\n",
        "    query_engine=query_engine,\n",
        "    name=\"pipe_design_guideline\",\n",
        "    description=(\n",
        "        \"This is a guideline for the design of brined steel pipelines.\"\n",
        "    ),\n",
        ")\n",
        "agent = ReActAgent.from_tools(\n",
        "    [pipe_design_guideline_tool], llm=llm, verbose=True\n",
        ")\n",
        "\n",
        "# Load a custom system prompt\n",
        "react_system_prompt = react_system_prmopt()\n",
        "\n",
        "# Update the agent with the custom system prompt\n",
        "agent.update_prompts({\"agent_worker:system_prompt\": react_system_prompt})"
      ]
    },
    {
      "cell_type": "code",
      "execution_count": 23,
      "id": "1cdce5d8-6bb3-4cd3-929d-1cec249d9052",
      "metadata": {
        "id": "1cdce5d8-6bb3-4cd3-929d-1cec249d9052",
        "outputId": "fde98c5a-f019-4854-81e5-cb1a71cadbdb"
      },
      "outputs": [
        {
          "name": "stdout",
          "output_type": "stream",
          "text": [
            "> Running step ec0f8c7c-d123-4850-8192-8d4e6ff174c1. Step input: Find the surface live load transferred to the pipe from different height cover?\n",
            "\u001b[1;3;38;5;200mThought: I need to use the pipe design guideline to find the surface live load transferred to the pipe from different height covers.\n",
            "Action: pipe_design_guideline\n",
            "Action Input: {'input': 'surface live load transferred to the pipe from different height cover'}\n",
            "\u001b[0m\u001b[1;3;34mObservation: The surface live load transferred to the pipe from different heights of cover is detailed in the table titled \"Live Load Transferred to Pipe Based on Height of Cover.\" This table provides the live load transferred to a pipe (in pounds per square inch) for various heights of cover (in feet) under different loading conditions: Highway H20, Railway E80, and Airport.\n",
            "\n",
            "Here is the relevant table:\n",
            "\n",
            "| Height of cover, ft | Live load transferred to pipe, lb/in² | Height of cover, ft | Live load transferred to pipe, lb/in² |\n",
            "|---------------------|--------------------------------------|---------------------|--------------------------------------|\n",
            "|                     | Highway H20* | Railway E80† | Airport‡ |                     | Highway H20* | Railway E80† | Airport‡ |\n",
            "| 1                   | 12.50        | --           | --       | 14                  | §            | 4.17         | 3.06     |\n",
            "| 2                   | 5.56         | 26.39        | 13.14    | 16                  | §            | 3.47         | 2.29     |\n",
            "| 3                   | 4.17         | 23.61        | 12.28    | 18                  | §            | 2.78         | 1.91     |\n",
            "| 4                   | 2.78         | 18.40        | 11.27    | 20                  | §            | 2.08         | 1.53     |\n",
            "| 5                   | 1.74         | 16.67        | 10.09    | 22                  | §            | 1.91         | 1.14     |\n",
            "| 6                   | 1.39         | 15.63        | 8.79     | 24                  | §            | 1.74         | 1.05     |\n",
            "| 7                   | 1.22         | 12.15        | 7.85     | 26                  | §            | 1.39         | §        |\n",
            "| 8                   | 0.69         | 11.11        | 6.93     | 28                  | §            | 1.04         | §        |\n",
            "| 10                  | §            | 7.64         | 6.09     | 30                  | §            | 0.69         | §        |\n",
            "| 12                  | §            | 5.56         | 4.76     | 35                  | §            | §            | §        |\n",
            "|                     |              |              |          | 40                  | §            | §            | §        |\n",
            "\n",
            "Additionally, the document notes that the live load depends on the depth of cover over the pipe and becomes negligible for HS-20 loads when the earth cover exceeds 8 feet; for E-80 loads when the earth cover exceeds 30 feet; and for airport loads when the earth cover exceeds 24 feet.\n",
            "\n",
            "For more detailed information, refer to Section 4.0 Surface Live Loads, specifically Section 4.1 Applied Loads.\n",
            "\n",
            "**Section Reference:**\n",
            "- Section 4.0 Surface Live Loads\n",
            "- Section 4.1 Applied Loads\n",
            "\u001b[0m> Running step 6bb8bfe1-b5c9-49c9-9de3-65c6f5f6f79f. Step input: None\n",
            "\u001b[1;3;38;5;200mThought: (Implicit) I can answer without any more tools!\n",
            "Answer: Answer: The surface live load transferred to the pipe from different heights of cover is detailed in the table titled \"Live Load Transferred to Pipe Based on Height of Cover.\" Here is a summary of the live load transferred to a pipe (in pounds per square inch) for various heights of cover (in feet) under different loading conditions: Highway H20, Railway E80, and Airport.\n",
            "\n",
            "| Height of cover, ft | Highway H20 (lb/in²) | Railway E80 (lb/in²) | Airport (lb/in²) |\n",
            "|---------------------|----------------------|----------------------|------------------|\n",
            "| 1                   | 12.50                | --                   | --               |\n",
            "| 2                   | 5.56                 | 26.39                | 13.14            |\n",
            "| 3                   | 4.17                 | 23.61                | 12.28            |\n",
            "| 4                   | 2.78                 | 18.40                | 11.27            |\n",
            "| 5                   | 1.74                 | 16.67                | 10.09            |\n",
            "| 6                   | 1.39                 | 15.63                | 8.79             |\n",
            "| 7                   | 1.22                 | 12.15                | 7.85             |\n",
            "| 8                   | 0.69                 | 11.11                | 6.93             |\n",
            "| 10                  | --                   | 7.64                 | 6.09             |\n",
            "| 12                  | --                   | 5.56                 | 4.76             |\n",
            "| 14                  | --                   | 4.17                 | 3.06             |\n",
            "| 16                  | --                   | 3.47                 | 2.29             |\n",
            "| 18                  | --                   | 2.78                 | 1.91             |\n",
            "| 20                  | --                   | 2.08                 | 1.53             |\n",
            "| 22                  | --                   | 1.91                 | 1.14             |\n",
            "| 24                  | --                   | 1.74                 | 1.05             |\n",
            "| 26                  | --                   | 1.39                 | --               |\n",
            "| 28                  | --                   | 1.04                 | --               |\n",
            "| 30                  | --                   | 0.69                 | --               |\n",
            "| 35                  | --                   | --                   | --               |\n",
            "| 40                  | --                   | --                   | --               |\n",
            "\n",
            "**Notes:**\n",
            "- The live load becomes negligible for HS-20 loads when the earth cover exceeds 8 feet.\n",
            "- The live load becomes negligible for E-80 loads when the earth cover exceeds 30 feet.\n",
            "- The live load becomes negligible for airport loads when the earth cover exceeds 24 feet.\n",
            "\n",
            "**Section Reference:**\n",
            "- Section 4.0 Surface Live Loads\n",
            "- Section 4.1 Applied Loads\n",
            "\u001b[0m"
          ]
        }
      ],
      "source": [
        "# response = agent.query(\"Tell me about the different regions and subregions where Conoco Phillips has a production base.\")\n",
        "response = agent.chat(\n",
        "    query_str\n",
        ")"
      ]
    },
    {
      "cell_type": "code",
      "execution_count": 24,
      "id": "a92da060",
      "metadata": {},
      "outputs": [
        {
          "data": {
            "text/markdown": [
              "Answer: The surface live load transferred to the pipe from different heights of cover is detailed in the table titled \"Live Load Transferred to Pipe Based on Height of Cover.\" Here is a summary of the live load transferred to a pipe (in pounds per square inch) for various heights of cover (in feet) under different loading conditions: Highway H20, Railway E80, and Airport.\n",
              "\n",
              "| Height of cover, ft | Highway H20 (lb/in²) | Railway E80 (lb/in²) | Airport (lb/in²) |\n",
              "|---------------------|----------------------|----------------------|------------------|\n",
              "| 1                   | 12.50                | --                   | --               |\n",
              "| 2                   | 5.56                 | 26.39                | 13.14            |\n",
              "| 3                   | 4.17                 | 23.61                | 12.28            |\n",
              "| 4                   | 2.78                 | 18.40                | 11.27            |\n",
              "| 5                   | 1.74                 | 16.67                | 10.09            |\n",
              "| 6                   | 1.39                 | 15.63                | 8.79             |\n",
              "| 7                   | 1.22                 | 12.15                | 7.85             |\n",
              "| 8                   | 0.69                 | 11.11                | 6.93             |\n",
              "| 10                  | --                   | 7.64                 | 6.09             |\n",
              "| 12                  | --                   | 5.56                 | 4.76             |\n",
              "| 14                  | --                   | 4.17                 | 3.06             |\n",
              "| 16                  | --                   | 3.47                 | 2.29             |\n",
              "| 18                  | --                   | 2.78                 | 1.91             |\n",
              "| 20                  | --                   | 2.08                 | 1.53             |\n",
              "| 22                  | --                   | 1.91                 | 1.14             |\n",
              "| 24                  | --                   | 1.74                 | 1.05             |\n",
              "| 26                  | --                   | 1.39                 | --               |\n",
              "| 28                  | --                   | 1.04                 | --               |\n",
              "| 30                  | --                   | 0.69                 | --               |\n",
              "| 35                  | --                   | --                   | --               |\n",
              "| 40                  | --                   | --                   | --               |\n",
              "\n",
              "**Notes:**\n",
              "- The live load becomes negligible for HS-20 loads when the earth cover exceeds 8 feet.\n",
              "- The live load becomes negligible for E-80 loads when the earth cover exceeds 30 feet.\n",
              "- The live load becomes negligible for airport loads when the earth cover exceeds 24 feet.\n",
              "\n",
              "**Section Reference:**\n",
              "- Section 4.0 Surface Live Loads\n",
              "- Section 4.1 Applied Loads"
            ],
            "text/plain": [
              "<IPython.core.display.Markdown object>"
            ]
          },
          "metadata": {},
          "output_type": "display_data"
        }
      ],
      "source": [
        "from IPython.display import display, Markdown\n",
        "display(Markdown(response.response))"
      ]
    }
  ],
  "metadata": {
    "colab": {
      "provenance": []
    },
    "kernelspec": {
      "display_name": ".venv",
      "language": "python",
      "name": "python3"
    },
    "language_info": {
      "codemirror_mode": {
        "name": "ipython",
        "version": 3
      },
      "file_extension": ".py",
      "mimetype": "text/x-python",
      "name": "python",
      "nbconvert_exporter": "python",
      "pygments_lexer": "ipython3",
      "version": "3.10.11"
    }
  },
  "nbformat": 4,
  "nbformat_minor": 5
}
